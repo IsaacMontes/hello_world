{
 "cells": [
  {
   "cell_type": "code",
   "execution_count": 10,
   "metadata": {},
   "outputs": [
    {
     "name": "stdout",
     "output_type": "stream",
     "text": [
      "¡Alerta! ¡Alerta! ¡Un asteroide se acerca a la Tierra!\n"
     ]
    }
   ],
   "source": [
    "asteroide = 49\n",
    "if asteroide > 25:\n",
    "    print('¡Alerta! ¡Alerta! ¡Un asteroide se acerca a la Tierra!')\n",
    "else:\n",
    "    print('¡Ten un buen dia!')"
   ]
  },
  {
   "cell_type": "code",
   "execution_count": 51,
   "metadata": {},
   "outputs": [
    {
     "name": "stdout",
     "output_type": "stream",
     "text": [
      "¡MIRA al cielo! ¡Hay un espectaculo espacial!\n"
     ]
    }
   ],
   "source": [
    "asteroide = 50 \n",
    "\n",
    "if asteroide > 20:\n",
    "    print('¡MIRA al cielo! ¡Hay un espectaculo espacial!')\n",
    "elif asteroide >= 50:\n",
    "    print('¡Cuidado este asteroide va muy rapido!')\n",
    "else:\n",
    "    print('Este asteroide no dara un espectaculo, !suerte para la proxima!')"
   ]
  },
  {
   "cell_type": "code",
   "execution_count": 54,
   "metadata": {},
   "outputs": [
    {
     "name": "stdout",
     "output_type": "stream",
     "text": [
      "¡MIRA al cielo! ¡Hay un espectaculo espacial!\n"
     ]
    }
   ],
   "source": [
    "velocidad_asteroide = 25\n",
    "tamano_asteroide = 20\n",
    "\n",
    "if velocidad_asteroide > 25 and tamano_asteroide > 25:\n",
    "    print('¡Alerta! ¡Alerta! Un asteroide muy grande puede impactar la Tierra!')\n",
    "elif velocidad_asteroide >= 20:\n",
    "    print('¡MIRA al cielo! ¡Hay un espectaculo espacial!')\n",
    "elif tamano_asteroide < 25:\n",
    "    print('Este asteroide no dara un espectaculo, !suerte para la proxima :)')\n",
    "else:\n",
    "    print('Este asteroide no dara un espectaculo, !suerte para la proxima :)')"
   ]
  }
 ],
 "metadata": {
  "interpreter": {
   "hash": "6e327c743a81fc61bf3356739ea1759946a5a073cdd2138cdc2e2b22ab8ca564"
  },
  "kernelspec": {
   "display_name": "Python 3.10.2 64-bit",
   "language": "python",
   "name": "python3"
  },
  "language_info": {
   "codemirror_mode": {
    "name": "ipython",
    "version": 3
   },
   "file_extension": ".py",
   "mimetype": "text/x-python",
   "name": "python",
   "nbconvert_exporter": "python",
   "pygments_lexer": "ipython3",
   "version": "3.10.2"
  },
  "orig_nbformat": 4
 },
 "nbformat": 4,
 "nbformat_minor": 2
}
